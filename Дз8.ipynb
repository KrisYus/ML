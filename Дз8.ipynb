{
 "cells": [
  {
   "cell_type": "code",
   "execution_count": 3,
   "metadata": {},
   "outputs": [],
   "source": [
    "import pandas as pd\n",
    "import numpy as np"
   ]
  },
  {
   "cell_type": "code",
   "execution_count": 4,
   "metadata": {},
   "outputs": [
    {
     "name": "stdout",
     "output_type": "stream",
     "text": [
      "             timestamp  meter_reading  air_temperature  cloud_coverage  \\\n",
      "0  2016-01-30 08:00:00        43.6839              8.3             0.0   \n",
      "1  2016-01-31 05:00:00        37.5408             12.8             0.0   \n",
      "2  2016-01-31 17:00:00        52.5571             20.6             0.0   \n",
      "3  2016-04-08 14:00:00        59.3827             21.7             2.0   \n",
      "4  2016-05-01 19:00:00       448.0000             31.1             0.0   \n",
      "\n",
      "   dew_temperature  precip_depth_1_hr sea_level_pressure  wind_speed  \\\n",
      "0              6.1                0.0                  0         2.1   \n",
      "1             10.0                0.0                  0         0.0   \n",
      "2             11.7                0.0                  0         1.5   \n",
      "3             14.4                0.0                  0         3.1   \n",
      "4             17.2                0.0                  0         4.1   \n",
      "\n",
      "   air_temperature1  \n",
      "0              -2.3  \n",
      "1              -1.1  \n",
      "2               1.7  \n",
      "3               2.8  \n",
      "4               1.1  \n"
     ]
    }
   ],
   "source": [
    "data = pd.read_csv('C:/Users/krist/ML/energy_1.csv')\n",
    "print (data.head())"
   ]
  },
  {
   "attachments": {},
   "cell_type": "markdown",
   "metadata": {},
   "source": [
    "Преобразуем метку времени в датц и выделим час"
   ]
  },
  {
   "cell_type": "code",
   "execution_count": 6,
   "metadata": {},
   "outputs": [],
   "source": [
    "data['timestamp'] = pd.to_datetime(data['timestamp'])\n",
    "data['hour'] = data['timestamp'].dt.hour"
   ]
  },
  {
   "cell_type": "code",
   "execution_count": 7,
   "metadata": {},
   "outputs": [],
   "source": [
    "data.to_csv(\"energy_2.csv\", index=False)"
   ]
  },
  {
   "attachments": {},
   "cell_type": "markdown",
   "metadata": {},
   "source": [
    "Вычислим стандартное отклонение для всех значений"
   ]
  },
  {
   "cell_type": "code",
   "execution_count": 8,
   "metadata": {},
   "outputs": [
    {
     "name": "stdout",
     "output_type": "stream",
     "text": [
      "49.13\n"
     ]
    }
   ],
   "source": [
    "std = np.std(data['meter_reading'])\n",
    "print('{0:.4}'.format(std))"
   ]
  },
  {
   "attachments": {},
   "cell_type": "markdown",
   "metadata": {},
   "source": [
    "Построение базовой модели\n",
    "Среднее значение и его ошибка"
   ]
  },
  {
   "cell_type": "code",
   "execution_count": 10,
   "metadata": {},
   "outputs": [
    {
     "name": "stdout",
     "output_type": "stream",
     "text": [
      "Модель: 237.7 Ошибка модели: 15.17% Ошибка данных: 20.66%\n"
     ]
    }
   ],
   "source": [
    "model = float(data[\"meter_reading\"].mean())\n",
    "err = np.mean(np.abs(data['meter_reading'] - model))\n",
    "print('Модель: {0:.4}'.format(model), \n",
    "'Ошибка модели: {0:.4}%'.format(100*err/model), \n",
    "'Ошибка данных: {0:.4}%'.format(100*std/model))"
   ]
  },
  {
   "attachments": {},
   "cell_type": "markdown",
   "metadata": {},
   "source": [
    "Модель по первому часу (hous==0)"
   ]
  },
  {
   "cell_type": "code",
   "execution_count": 11,
   "metadata": {},
   "outputs": [
    {
     "name": "stdout",
     "output_type": "stream",
     "text": [
      "     timestamp  meter_reading  air_temperature  cloud_coverage  \\\n",
      "11  2016-05-21        249.817             26.7             6.0   \n",
      "35  2016-05-22        251.182             28.9             2.0   \n",
      "59  2016-05-23        237.531             26.7             6.0   \n",
      "83  2016-05-24        223.197             26.1             4.0   \n",
      "107 2016-05-25        208.863             26.1             4.0   \n",
      "\n",
      "     dew_temperature  precip_depth_1_hr sea_level_pressure  wind_speed  \\\n",
      "11              19.4                0.0                  0         0.0   \n",
      "35              17.2                0.0                  0         4.1   \n",
      "59              14.4                0.0                  0         7.2   \n",
      "83              15.6                0.0                  0         6.2   \n",
      "107             13.9                0.0                  0         5.1   \n",
      "\n",
      "     air_temperature1  hour  \n",
      "11               -0.5     0  \n",
      "35               -1.7     0  \n",
      "59               -2.2     0  \n",
      "83               -1.7     0  \n",
      "107              -1.1     0  \n"
     ]
    }
   ],
   "source": [
    "data0 = data.loc[data[\"hour\"]==0]\n",
    "print(data0.head())"
   ]
  },
  {
   "attachments": {},
   "cell_type": "markdown",
   "metadata": {},
   "source": [
    "Построим модель по часу и сравним с базовой"
   ]
  },
  {
   "cell_type": "code",
   "execution_count": 17,
   "metadata": {},
   "outputs": [
    {
     "name": "stdout",
     "output_type": "stream",
     "text": [
      "Модель: 238.7 Ошибка модели по часу: 13.63%, Ошибка базовой модели: 20.66%,\n"
     ]
    }
   ],
   "source": [
    "model0 = float(data0[\"meter_reading\"].mean())\n",
    "err0 = np.mean(np.abs(data0['meter_reading'] - model0))\n",
    "print('Модель: {0:.4}'.format(model0), \n",
    "'Ошибка модели по часу: {0:.4}%,'.format(100*err0/model0), \n",
    "'Ошибка базовой модели: {0:.4}%,'.format(100*std/model))"
   ]
  }
 ],
 "metadata": {
  "kernelspec": {
   "display_name": "Python 3",
   "language": "python",
   "name": "python3"
  },
  "language_info": {
   "codemirror_mode": {
    "name": "ipython",
    "version": 3
   },
   "file_extension": ".py",
   "mimetype": "text/x-python",
   "name": "python",
   "nbconvert_exporter": "python",
   "pygments_lexer": "ipython3",
   "version": "3.11.2"
  },
  "orig_nbformat": 4,
  "vscode": {
   "interpreter": {
    "hash": "5b40c9401a42f1b254132d7b6e86a367c31e5c46484da0f0f40cbf097758bc2b"
   }
  }
 },
 "nbformat": 4,
 "nbformat_minor": 2
}
