{
 "cells": [
  {
   "cell_type": "code",
   "execution_count": null,
   "id": "70998bc8",
   "metadata": {},
   "outputs": [],
   "source": [
    "pip install pandas"
   ]
  },
  {
   "cell_type": "code",
   "execution_count": null,
   "id": "8e6a0ce8",
   "metadata": {},
   "outputs": [],
   "source": [
    "pip install numpy"
   ]
  },
  {
   "cell_type": "code",
   "execution_count": 1,
   "id": "81892e92",
   "metadata": {},
   "outputs": [],
   "source": [
    "import pandas as pd\n",
    "import numpy as np"
   ]
  },
  {
   "cell_type": "code",
   "execution_count": 18,
   "id": "98ff1c11",
   "metadata": {},
   "outputs": [
    {
     "name": "stdout",
     "output_type": "stream",
     "text": [
      "   site_id  building_id primary_use  square_feet  year_built  floor_count\n",
      "0        0            0   Education         7432      2008.0          NaN\n",
      "1        0            1   Education         2720      2004.0          NaN\n",
      "2        0            2   Education         5376      1991.0          NaN\n",
      "3        0            3   Education        23685      2002.0          NaN\n",
      "4        0            4   Education       116607      1975.0          NaN\n"
     ]
    }
   ],
   "source": [
    "building = pd.read_csv('C://Users//krist//Downloads//building_metadata(1).csv.gz')\n",
    "print (building.head())"
   ]
  },
  {
   "cell_type": "code",
   "execution_count": 19,
   "id": "eda18f29",
   "metadata": {},
   "outputs": [
    {
     "name": "stdout",
     "output_type": "stream",
     "text": [
      "   site_id            timestamp  air_temperature  cloud_coverage  \\\n",
      "0        0  2016-01-01 00:00:00             25.0             6.0   \n",
      "1        0  2016-01-01 01:00:00             24.4             NaN   \n",
      "2        0  2016-01-01 02:00:00             22.8             2.0   \n",
      "3        0  2016-01-01 03:00:00             21.1             2.0   \n",
      "4        0  2016-01-01 04:00:00             20.0             2.0   \n",
      "\n",
      "   dew_temperature  precip_depth_1_hr  sea_level_pressure  wind_direction  \\\n",
      "0             20.0                NaN              1019.7             0.0   \n",
      "1             21.1               -1.0              1020.2            70.0   \n",
      "2             21.1                0.0              1020.2             0.0   \n",
      "3             20.6                0.0              1020.1             0.0   \n",
      "4             20.0               -1.0              1020.0           250.0   \n",
      "\n",
      "   wind_speed  \n",
      "0         0.0  \n",
      "1         1.5  \n",
      "2         0.0  \n",
      "3         0.0  \n",
      "4         2.6  \n"
     ]
    }
   ],
   "source": [
    "weather = pd.read_csv('C://Users//krist//Downloads//weather_train(1).csv.gz')\n",
    "print (weather.head())"
   ]
  },
  {
   "cell_type": "code",
   "execution_count": 20,
   "id": "399bc01d",
   "metadata": {},
   "outputs": [
    {
     "name": "stdout",
     "output_type": "stream",
     "text": [
      "   building_id  meter            timestamp  meter_reading\n",
      "0            0      0  2016-01-01 00:00:00            0.0\n",
      "1            0      0  2016-01-01 01:00:00            0.0\n",
      "2            0      0  2016-01-01 02:00:00            0.0\n",
      "3            0      0  2016-01-01 03:00:00            0.0\n",
      "4            0      0  2016-01-01 04:00:00            0.0\n"
     ]
    }
   ],
   "source": [
    "energy_0 = pd.read_csv('C://Users//krist//Downloads//train.0.0(2).csv.gz')\n",
    "print (energy_0.head())"
   ]
  },
  {
   "attachments": {},
   "cell_type": "markdown",
   "id": "1c96a356",
   "metadata": {},
   "source": [
    "#Объединение потребление энергии и инфо о здании\n",
    "# по building_id"
   ]
  },
  {
   "cell_type": "code",
   "execution_count": 21,
   "id": "764ff62b",
   "metadata": {},
   "outputs": [
    {
     "name": "stdout",
     "output_type": "stream",
     "text": [
      "   building_id  meter            timestamp  meter_reading  site_id  \\\n",
      "0            0      0  2016-01-01 00:00:00            0.0        0   \n",
      "1            0      0  2016-01-01 01:00:00            0.0        0   \n",
      "2            0      0  2016-01-01 02:00:00            0.0        0   \n",
      "3            0      0  2016-01-01 03:00:00            0.0        0   \n",
      "4            0      0  2016-01-01 04:00:00            0.0        0   \n",
      "\n",
      "  primary_use  square_feet  year_built  floor_count  \n",
      "0   Education         7432      2008.0          NaN  \n",
      "1   Education         7432      2008.0          NaN  \n",
      "2   Education         7432      2008.0          NaN  \n",
      "3   Education         7432      2008.0          NaN  \n",
      "4   Education         7432      2008.0          NaN  \n"
     ]
    }
   ],
   "source": [
    "energy_0 = pd.merge(left=energy_0, right=building, how='left', left_on=\"building_id\", right_on=\"building_id\")\n",
    "print (energy_0.head())"
   ]
  },
  {
   "attachments": {},
   "cell_type": "markdown",
   "id": "55aa1091",
   "metadata": {},
   "source": [
    "#вставим индексы на объединение timestamp, site_id"
   ]
  },
  {
   "cell_type": "code",
   "execution_count": 22,
   "id": "b4265e27",
   "metadata": {},
   "outputs": [],
   "source": [
    "energy_0.set_index([\"timestamp\", \"site_id\"], inplace=True)\n",
    "weather.set_index([\"timestamp', 'site_id'], inplace=True)"
   ]
  },
  {
   "attachments": {},
   "cell_type": "markdown",
   "id": "7ea77a4a",
   "metadata": {},
   "source": [
    "#Проведем объединение и сбросим индексы"
   ]
  },
  {
   "cell_type": "code",
   "execution_count": 23,
   "id": "e0219c3d",
   "metadata": {},
   "outputs": [
    {
     "name": "stdout",
     "output_type": "stream",
     "text": [
      "             timestamp  site_id  building_id  meter  meter_reading  \\\n",
      "0  2016-01-01 00:00:00        0            0      0            0.0   \n",
      "1  2016-01-01 01:00:00        0            0      0            0.0   \n",
      "2  2016-01-01 02:00:00        0            0      0            0.0   \n",
      "3  2016-01-01 03:00:00        0            0      0            0.0   \n",
      "4  2016-01-01 04:00:00        0            0      0            0.0   \n",
      "\n",
      "  primary_use  square_feet  year_built  floor_count  air_temperature  \\\n",
      "0   Education         7432      2008.0          NaN             25.0   \n",
      "1   Education         7432      2008.0          NaN             24.4   \n",
      "2   Education         7432      2008.0          NaN             22.8   \n",
      "3   Education         7432      2008.0          NaN             21.1   \n",
      "4   Education         7432      2008.0          NaN             20.0   \n",
      "\n",
      "   cloud_coverage  dew_temperature  precip_depth_1_hr  sea_level_pressure  \\\n",
      "0             6.0             20.0                NaN              1019.7   \n",
      "1             NaN             21.1               -1.0              1020.2   \n",
      "2             2.0             21.1                0.0              1020.2   \n",
      "3             2.0             20.6                0.0              1020.1   \n",
      "4             2.0             20.0               -1.0              1020.0   \n",
      "\n",
      "   wind_direction  wind_speed  \n",
      "0             0.0         0.0  \n",
      "1            70.0         1.5  \n",
      "2             0.0         0.0  \n",
      "3             0.0         0.0  \n",
      "4           250.0         2.6  \n"
     ]
    }
   ],
   "source": [
    "energy_0 = pd.merge(left=energy_0, right=weather, how='left', left_index=True, right_index=True)\n",
    "energy_0.reset_index(inplace=True)\n",
    "print (energy_0.head())"
   ]
  },
  {
   "cell_type": "code",
   "execution_count": 29,
   "id": "de4a8845",
   "metadata": {},
   "outputs": [
    {
     "name": "stdout",
     "output_type": "stream",
     "text": [
      "<class 'pandas.core.frame.DataFrame'>\n",
      "RangeIndex: 8784 entries, 0 to 8783\n",
      "Data columns (total 16 columns):\n",
      " #   Column              Non-Null Count  Dtype  \n",
      "---  ------              --------------  -----  \n",
      " 0   timestamp           8784 non-null   object \n",
      " 1   site_id             8784 non-null   int64  \n",
      " 2   building_id         8784 non-null   int64  \n",
      " 3   meter               8784 non-null   int64  \n",
      " 4   meter_reading       8784 non-null   float64\n",
      " 5   primary_use         8784 non-null   object \n",
      " 6   square_feet         8784 non-null   int64  \n",
      " 7   year_built          8784 non-null   float64\n",
      " 8   floor_count         0 non-null      float64\n",
      " 9   air_temperature     8784 non-null   float64\n",
      " 10  cloud_coverage      8784 non-null   float64\n",
      " 11  dew_temperature     8784 non-null   float64\n",
      " 12  precip_depth_1_hr   8784 non-null   float64\n",
      " 13  sea_level_pressure  8784 non-null   object \n",
      " 14  wind_direction      8784 non-null   object \n",
      " 15  wind_speed          8784 non-null   float64\n",
      "dtypes: float64(8), int64(4), object(4)\n",
      "memory usage: 1.1+ MB\n"
     ]
    }
   ],
   "source": [
    "energy_0['air_temperature'].fillna(0,inplace=True)\n",
    "energy_0['cloud_coverage'].fillna(0,inplace=True)\n",
    "energy_0['dew_temperature'].fillna(0,inplace=True)\n",
    "energy_0['precip_depth_1_hr']=energy_0['precip_depth_1_hr'].apply(lambda x:x if x>0 else 0)\n",
    "energy_0_sea_level_pressure_mean =energy_0['sea_level_pressure'].mean\n",
    "energy_0['sea_level_pressure']=energy_0['sea_level_pressure'].apply(lambda x:energy_0_sea_level_pressure_mean if x!=x else x)\n",
    "energy_0_wind_direction_mean =energy_0['wind_direction'].mean\n",
    "energy_0['wind_direction']=energy_0['wind_direction'].apply(lambda x:energy_0_wind_direction_mean if x!=x else x)\n",
    "energy_0.info()"
   ]
  },
  {
   "cell_type": "code",
   "execution_count": 31,
   "id": "6274fbbd",
   "metadata": {},
   "outputs": [],
   "source": [
    "energy_0.to_csv('energy_0.csv',index=False)"
   ]
  },
  {
   "cell_type": "code",
   "execution_count": 1,
   "id": "1d979f9e",
   "metadata": {},
   "outputs": [
    {
     "name": "stdout",
     "output_type": "stream",
     "text": [
      "Collecting scikit-learn\n",
      "  Using cached scikit_learn-1.2.1-cp311-cp311-win_amd64.whl (8.2 MB)\n",
      "Requirement already satisfied: numpy>=1.17.3 in c:\\users\\krist\\appdata\\local\\programs\\python\\python311\\lib\\site-packages (from scikit-learn) (1.24.2)\n",
      "Collecting scipy>=1.3.2\n",
      "  Using cached scipy-1.10.0-cp311-cp311-win_amd64.whl (42.2 MB)\n",
      "Collecting joblib>=1.1.1\n",
      "  Using cached joblib-1.2.0-py3-none-any.whl (297 kB)\n",
      "Collecting threadpoolctl>=2.0.0\n",
      "  Using cached threadpoolctl-3.1.0-py3-none-any.whl (14 kB)\n",
      "Installing collected packages: threadpoolctl, scipy, joblib, scikit-learn\n",
      "Successfully installed joblib-1.2.0 scikit-learn-1.2.1 scipy-1.10.0 threadpoolctl-3.1.0\n",
      "Note: you may need to restart the kernel to use updated packages.\n"
     ]
    },
    {
     "name": "stderr",
     "output_type": "stream",
     "text": [
      "\n",
      "[notice] A new release of pip available: 22.3.1 -> 23.0\n",
      "[notice] To update, run: python.exe -m pip install --upgrade pip\n"
     ]
    }
   ],
   "source": [
    "pip install scikit-learn"
   ]
  }
 ],
 "metadata": {
  "kernelspec": {
   "display_name": "Python 3",
   "language": "python",
   "name": "python3"
  },
  "language_info": {
   "codemirror_mode": {
    "name": "ipython",
    "version": 3
   },
   "file_extension": ".py",
   "mimetype": "text/x-python",
   "name": "python",
   "nbconvert_exporter": "python",
   "pygments_lexer": "ipython3",
   "version": "3.11.2"
  },
  "vscode": {
   "interpreter": {
    "hash": "5b40c9401a42f1b254132d7b6e86a367c31e5c46484da0f0f40cbf097758bc2b"
   }
  }
 },
 "nbformat": 4,
 "nbformat_minor": 5
}
